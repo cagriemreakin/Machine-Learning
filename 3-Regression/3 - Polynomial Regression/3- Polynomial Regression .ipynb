{
 "cells": [
  {
   "cell_type": "code",
   "execution_count": 1,
   "metadata": {
    "collapsed": true
   },
   "outputs": [],
   "source": [
    "# Polynomial Regression\n",
    "# Gerekli Kütüphaneler\n",
    "import numpy as np\n",
    "import matplotlib.pyplot as plt\n",
    "import pandas as pd\n",
    "%matplotlib inline"
   ]
  },
  {
   "cell_type": "code",
   "execution_count": 2,
   "metadata": {},
   "outputs": [
    {
     "data": {
      "text/html": [
       "<div>\n",
       "<style>\n",
       "    .dataframe thead tr:only-child th {\n",
       "        text-align: right;\n",
       "    }\n",
       "\n",
       "    .dataframe thead th {\n",
       "        text-align: left;\n",
       "    }\n",
       "\n",
       "    .dataframe tbody tr th {\n",
       "        vertical-align: top;\n",
       "    }\n",
       "</style>\n",
       "<table border=\"1\" class=\"dataframe\">\n",
       "  <thead>\n",
       "    <tr style=\"text-align: right;\">\n",
       "      <th></th>\n",
       "      <th>pozisyon</th>\n",
       "      <th>seviye</th>\n",
       "      <th>maas</th>\n",
       "    </tr>\n",
       "  </thead>\n",
       "  <tbody>\n",
       "    <tr>\n",
       "      <th>0</th>\n",
       "      <td>is analisti</td>\n",
       "      <td>1</td>\n",
       "      <td>45000</td>\n",
       "    </tr>\n",
       "    <tr>\n",
       "      <th>1</th>\n",
       "      <td>danisman</td>\n",
       "      <td>2</td>\n",
       "      <td>50000</td>\n",
       "    </tr>\n",
       "    <tr>\n",
       "      <th>2</th>\n",
       "      <td>kidemli danisman</td>\n",
       "      <td>3</td>\n",
       "      <td>60000</td>\n",
       "    </tr>\n",
       "    <tr>\n",
       "      <th>3</th>\n",
       "      <td>yonetici</td>\n",
       "      <td>4</td>\n",
       "      <td>80000</td>\n",
       "    </tr>\n",
       "    <tr>\n",
       "      <th>4</th>\n",
       "      <td>milletvekili</td>\n",
       "      <td>5</td>\n",
       "      <td>110000</td>\n",
       "    </tr>\n",
       "    <tr>\n",
       "      <th>5</th>\n",
       "      <td>bolge muduru</td>\n",
       "      <td>6</td>\n",
       "      <td>150000</td>\n",
       "    </tr>\n",
       "    <tr>\n",
       "      <th>6</th>\n",
       "      <td>hissedar</td>\n",
       "      <td>7</td>\n",
       "      <td>200000</td>\n",
       "    </tr>\n",
       "    <tr>\n",
       "      <th>7</th>\n",
       "      <td>buyuk hisse sahibi</td>\n",
       "      <td>8</td>\n",
       "      <td>300000</td>\n",
       "    </tr>\n",
       "    <tr>\n",
       "      <th>8</th>\n",
       "      <td>CTO</td>\n",
       "      <td>9</td>\n",
       "      <td>500000</td>\n",
       "    </tr>\n",
       "    <tr>\n",
       "      <th>9</th>\n",
       "      <td>CEO</td>\n",
       "      <td>10</td>\n",
       "      <td>1000000</td>\n",
       "    </tr>\n",
       "  </tbody>\n",
       "</table>\n",
       "</div>"
      ],
      "text/plain": [
       "             pozisyon  seviye     maas\n",
       "0         is analisti       1    45000\n",
       "1            danisman       2    50000\n",
       "2    kidemli danisman       3    60000\n",
       "3            yonetici       4    80000\n",
       "4        milletvekili       5   110000\n",
       "5        bolge muduru       6   150000\n",
       "6            hissedar       7   200000\n",
       "7  buyuk hisse sahibi       8   300000\n",
       "8                 CTO       9   500000\n",
       "9                 CEO      10  1000000"
      ]
     },
     "execution_count": 2,
     "metadata": {},
     "output_type": "execute_result"
    }
   ],
   "source": [
    "dataset = pd.read_csv('maas.csv')\n",
    "X = dataset.iloc[:, 1:2].values\n",
    "y = dataset.iloc[:, 2].values\n",
    "dataset"
   ]
  },
  {
   "cell_type": "code",
   "execution_count": 3,
   "metadata": {},
   "outputs": [
    {
     "data": {
      "text/plain": [
       "'from sklearn.cross_validation import train_test_split\\nX_train, X_test, y_train, y_test = train_test_split(X, y, test_size = 0.2, random_state = 0)'"
      ]
     },
     "execution_count": 3,
     "metadata": {},
     "output_type": "execute_result"
    }
   ],
   "source": [
    "# Veri setimizi eğitim ve test seti olarak 2 ye ayırmıyoruz. Bunun 2 nedeni var.\n",
    "#1.si veri setimizde yeteri kadar bilgi yok. Totalde 10 satırdan oluşuyor.\n",
    "#2.si ise accurate (doğru) tahmin yapmak istememiz.\n",
    "\"\"\"from sklearn.cross_validation import train_test_split\n",
    "X_train, X_test, y_train, y_test = train_test_split(X, y, test_size = 0.2, random_state = 0)\"\"\""
   ]
  },
  {
   "cell_type": "code",
   "execution_count": 4,
   "metadata": {},
   "outputs": [
    {
     "data": {
      "text/plain": [
       "LinearRegression(copy_X=True, fit_intercept=True, n_jobs=1, normalize=False)"
      ]
     },
     "execution_count": 4,
     "metadata": {},
     "output_type": "execute_result"
    }
   ],
   "source": [
    "# Polynomial regression ile karşılaşma yapmak için modelizimiz Linear regression ile eğitiyoruz.\n",
    "from sklearn.linear_model import LinearRegression\n",
    "linear= LinearRegression()\n",
    "linear.fit(X, y)"
   ]
  },
  {
   "cell_type": "code",
   "execution_count": 5,
   "metadata": {},
   "outputs": [
    {
     "data": {
      "text/plain": [
       "LinearRegression(copy_X=True, fit_intercept=True, n_jobs=1, normalize=False)"
      ]
     },
     "execution_count": 5,
     "metadata": {},
     "output_type": "execute_result"
    }
   ],
   "source": [
    "# Polynomial Regression ile modelimizi eğitme \n",
    "from sklearn.preprocessing import PolynomialFeatures\n",
    "''' polynomial adında PolynomialFeatures class'ından bir nesne yaratıp derecesini 4 olarak aldık. Varsayılan değeri 2'dir.\n",
    "    Bu değeri değiştirip grafiğini çizerek nasıl bir curve meydana geldiğini görebiliriz. \n",
    "    Fakat değeri çok artırırsak overfitting meydana gelir. Model, training sette elde ettiği sonuçları ezberler.\n",
    "    Modelin kompleksliği artar.'''\n",
    "polynomial = PolynomialFeatures(degree = 4)\n",
    "X_poly = polynomial.fit_transform(X)\n",
    "polynomial.fit(X_poly, y)\n",
    "linear_2 = LinearRegression()\n",
    "linear_2.fit(X_poly, y)"
   ]
  },
  {
   "cell_type": "code",
   "execution_count": 6,
   "metadata": {},
   "outputs": [
    {
     "name": "stdout",
     "output_type": "stream",
     "text": [
      "R^2:  0.997392289171\n",
      "Adj. R^2:  0.995306120507\n"
     ]
    }
   ],
   "source": [
    "# OLS class' ını kullanarak R^2 değerini bulma \n",
    "import statsmodels.formula.api as sm\n",
    "regressor_OLS = sm.OLS(endog = y, exog = X_poly).fit()\n",
    "print(\"R^2: \",regressor_OLS.rsquared)\n",
    "print(\"Adj. R^2: \",regressor_OLS.rsquared_adj)"
   ]
  },
  {
   "cell_type": "code",
   "execution_count": 7,
   "metadata": {},
   "outputs": [
    {
     "data": {
      "image/png": "[encoded data removed]",
      "text/plain": [
       "<matplotlib.figure.Figure at 0x20c75a7cb00>"
      ]
     },
     "metadata": {},
     "output_type": "display_data"
    }
   ],
   "source": [
    "# Linear Regression ve Polynomiak Regression Sonuçlarını görselleştirme \n",
    "plt.scatter(X, y, color = 'red')\n",
    "plt.plot(X, linear.predict(X), color = 'blue')\n",
    "X_grid = np.arange(min(X), max(X), 0.1)\n",
    "X_grid = X_grid.reshape((len(X_grid), 1))\n",
    "plt.plot(X_grid, linear_2.predict(polynomial.fit_transform(X_grid)), color = 'green')\n",
    "plt.title('Linear Regression vs. Polynomial Regression')\n",
    "plt.xlabel('Pozisyon')\n",
    "plt.ylabel('Maas')\n",
    "plt.show()"
   ]
  },
  {
   "cell_type": "code",
   "execution_count": 8,
   "metadata": {},
   "outputs": [
    {
     "data": {
      "text/plain": [
       "array([ 370818.18181818])"
      ]
     },
     "execution_count": 8,
     "metadata": {},
     "output_type": "execute_result"
    }
   ],
   "source": [
    "# Linear Regression modeli ile pozisyonu 7 olan kişinin maasını hesaplama\n",
    "linear.predict(7)"
   ]
  },
  {
   "cell_type": "code",
   "execution_count": 9,
   "metadata": {},
   "outputs": [
    {
     "data": {
      "text/plain": [
       "array([ 184003.49650353])"
      ]
     },
     "execution_count": 9,
     "metadata": {},
     "output_type": "execute_result"
    }
   ],
   "source": [
    "# Polynomial Regression modeli ile pozisyonu 7 olan kişinin maasını hesaplama\n",
    "linear_2.predict(polynomial.fit_transform(7))"
   ]
  }
 ],
 "metadata": {
  "kernelspec": {
   "display_name": "Python 3",
   "language": "python",
   "name": "python3"
  },
  "language_info": {
   "codemirror_mode": {
    "name": "ipython",
    "version": 3
   },
   "file_extension": ".py",
   "mimetype": "text/x-python",
   "name": "python",
   "nbconvert_exporter": "python",
   "pygments_lexer": "ipython3",
   "version": "3.6.1"
  }
 },
 "nbformat": 4,
 "nbformat_minor": 2
}

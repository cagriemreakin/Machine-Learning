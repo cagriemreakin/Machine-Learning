{
 "cells": [
  {
   "cell_type": "markdown",
   "metadata": {},
   "source": [
    "<p style=\"font-family: Arial; font-size:2.2em;color:purple; font-style:bold\"><br>\n",
    "\n",
    "K-Ortalama Algoritması ile Yürüme Aktivitesinden Kullanıcı Tanımlama<br><br>\n",
    "</p>"
   ]
  },
  {
   "cell_type": "markdown",
   "metadata": {},
   "source": [
    "<p style=\"font-family: Arial; font-size:1.75em;color:purple; font-style:bold\"><br>\n",
    "\n",
    "Gerekli kütüphanelerin İçe Aktarılması<br><br>\n",
    "</p>"
   ]
  },
  {
   "cell_type": "code",
   "execution_count": 1,
   "metadata": {
    "collapsed": true
   },
   "outputs": [],
   "source": [
    "from sklearn.cluster import KMeans\n",
    "import pandas as pd\n",
    "import numpy as np\n",
    "import matplotlib.pyplot as plt\n",
    "import random\n",
    "%matplotlib inline"
   ]
  },
  {
   "cell_type": "markdown",
   "metadata": {},
   "source": [
    "Dataset'i okuyup Pandas dataframe'e aktarma"
   ]
  },
  {
   "cell_type": "code",
   "execution_count": 2,
   "metadata": {},
   "outputs": [
    {
     "data": {
      "text/html": [
       "<div>\n",
       "<style>\n",
       "    .dataframe thead tr:only-child th {\n",
       "        text-align: right;\n",
       "    }\n",
       "\n",
       "    .dataframe thead th {\n",
       "        text-align: left;\n",
       "    }\n",
       "\n",
       "    .dataframe tbody tr th {\n",
       "        vertical-align: top;\n",
       "    }\n",
       "</style>\n",
       "<table border=\"1\" class=\"dataframe\">\n",
       "  <thead>\n",
       "    <tr style=\"text-align: right;\">\n",
       "      <th></th>\n",
       "      <th>time-step</th>\n",
       "      <th>x-acceleration</th>\n",
       "      <th>y-acceleration</th>\n",
       "      <th>z-acceleration</th>\n",
       "    </tr>\n",
       "  </thead>\n",
       "  <tbody>\n",
       "    <tr>\n",
       "      <th>0</th>\n",
       "      <td>0.000000</td>\n",
       "      <td>0.69464</td>\n",
       "      <td>3.17350</td>\n",
       "      <td>7.5048</td>\n",
       "    </tr>\n",
       "    <tr>\n",
       "      <th>1</th>\n",
       "      <td>0.030639</td>\n",
       "      <td>0.14982</td>\n",
       "      <td>3.48680</td>\n",
       "      <td>9.2755</td>\n",
       "    </tr>\n",
       "    <tr>\n",
       "      <th>2</th>\n",
       "      <td>0.069763</td>\n",
       "      <td>-0.29965</td>\n",
       "      <td>1.94770</td>\n",
       "      <td>9.1120</td>\n",
       "    </tr>\n",
       "    <tr>\n",
       "      <th>3</th>\n",
       "      <td>0.099823</td>\n",
       "      <td>-1.68890</td>\n",
       "      <td>1.41650</td>\n",
       "      <td>10.1200</td>\n",
       "    </tr>\n",
       "    <tr>\n",
       "      <th>4</th>\n",
       "      <td>0.129820</td>\n",
       "      <td>-2.17930</td>\n",
       "      <td>0.95342</td>\n",
       "      <td>10.9240</td>\n",
       "    </tr>\n",
       "  </tbody>\n",
       "</table>\n",
       "</div>"
      ],
      "text/plain": [
       "   time-step  x-acceleration  y-acceleration  z-acceleration\n",
       "0   0.000000         0.69464         3.17350          7.5048\n",
       "1   0.030639         0.14982         3.48680          9.2755\n",
       "2   0.069763        -0.29965         1.94770          9.1120\n",
       "3   0.099823        -1.68890         1.41650         10.1200\n",
       "4   0.129820        -2.17930         0.95342         10.9240"
      ]
     },
     "execution_count": 2,
     "metadata": {},
     "output_type": "execute_result"
    }
   ],
   "source": [
    "data = pd.read_csv('./datasets/UserIdentificationFromWalkingActivity.csv')\n",
    "data.head()"
   ]
  },
  {
   "cell_type": "code",
   "execution_count": 3,
   "metadata": {},
   "outputs": [
    {
     "data": {
      "text/plain": [
       "(149332, 4)"
      ]
     },
     "execution_count": 3,
     "metadata": {},
     "output_type": "execute_result"
    }
   ],
   "source": [
    "data.shape"
   ]
  },
  {
   "cell_type": "markdown",
   "metadata": {},
   "source": [
    "<p style=\"font-family: Arial; font-size:1.75em;color:purple; font-style:bold\"><br>\n",
    "\n",
    "Veri Temizleme<br><br>\n",
    "</p>"
   ]
  },
  {
   "cell_type": "code",
   "execution_count": 4,
   "metadata": {},
   "outputs": [
    {
     "data": {
      "text/plain": [
       "0"
      ]
     },
     "execution_count": 4,
     "metadata": {},
     "output_type": "execute_result"
    }
   ],
   "source": [
    "data.isnull().any(axis=1).sum()"
   ]
  },
  {
   "cell_type": "markdown",
   "metadata": {},
   "source": [
    "Herhangi bir satırda null değer yok."
   ]
  },
  {
   "cell_type": "code",
   "execution_count": 5,
   "metadata": {},
   "outputs": [
    {
     "data": {
      "text/html": [
       "<div>\n",
       "<style>\n",
       "    .dataframe thead tr:only-child th {\n",
       "        text-align: right;\n",
       "    }\n",
       "\n",
       "    .dataframe thead th {\n",
       "        text-align: left;\n",
       "    }\n",
       "\n",
       "    .dataframe tbody tr th {\n",
       "        vertical-align: top;\n",
       "    }\n",
       "</style>\n",
       "<table border=\"1\" class=\"dataframe\">\n",
       "  <thead>\n",
       "    <tr style=\"text-align: right;\">\n",
       "      <th></th>\n",
       "      <th>count</th>\n",
       "      <th>mean</th>\n",
       "      <th>std</th>\n",
       "      <th>min</th>\n",
       "      <th>25%</th>\n",
       "      <th>50%</th>\n",
       "      <th>75%</th>\n",
       "      <th>max</th>\n",
       "    </tr>\n",
       "  </thead>\n",
       "  <tbody>\n",
       "    <tr>\n",
       "      <th>time-step</th>\n",
       "      <td>149332.0</td>\n",
       "      <td>185.559916</td>\n",
       "      <td>167.160830</td>\n",
       "      <td>0.000</td>\n",
       "      <td>56.7800</td>\n",
       "      <td>127.370000</td>\n",
       "      <td>273.682500</td>\n",
       "      <td>676.680</td>\n",
       "    </tr>\n",
       "    <tr>\n",
       "      <th>x-acceleration</th>\n",
       "      <td>149332.0</td>\n",
       "      <td>-1.655328</td>\n",
       "      <td>2.866972</td>\n",
       "      <td>-19.572</td>\n",
       "      <td>-3.1463</td>\n",
       "      <td>-1.307600</td>\n",
       "      <td>-0.040861</td>\n",
       "      <td>19.314</td>\n",
       "    </tr>\n",
       "    <tr>\n",
       "      <th>y-acceleration</th>\n",
       "      <td>149332.0</td>\n",
       "      <td>8.769387</td>\n",
       "      <td>2.772235</td>\n",
       "      <td>-10.924</td>\n",
       "      <td>7.1643</td>\n",
       "      <td>8.853200</td>\n",
       "      <td>10.338000</td>\n",
       "      <td>19.572</td>\n",
       "    </tr>\n",
       "    <tr>\n",
       "      <th>z-acceleration</th>\n",
       "      <td>149332.0</td>\n",
       "      <td>0.555580</td>\n",
       "      <td>3.147621</td>\n",
       "      <td>-14.982</td>\n",
       "      <td>-1.2258</td>\n",
       "      <td>-0.081722</td>\n",
       "      <td>1.539100</td>\n",
       "      <td>19.341</td>\n",
       "    </tr>\n",
       "  </tbody>\n",
       "</table>\n",
       "</div>"
      ],
      "text/plain": [
       "                   count        mean         std     min      25%         50%  \\\n",
       "time-step       149332.0  185.559916  167.160830   0.000  56.7800  127.370000   \n",
       "x-acceleration  149332.0   -1.655328    2.866972 -19.572  -3.1463   -1.307600   \n",
       "y-acceleration  149332.0    8.769387    2.772235 -10.924   7.1643    8.853200   \n",
       "z-acceleration  149332.0    0.555580    3.147621 -14.982  -1.2258   -0.081722   \n",
       "\n",
       "                       75%      max  \n",
       "time-step       273.682500  676.680  \n",
       "x-acceleration   -0.040861   19.314  \n",
       "y-acceleration   10.338000   19.572  \n",
       "z-acceleration    1.539100   19.341  "
      ]
     },
     "execution_count": 5,
     "metadata": {},
     "output_type": "execute_result"
    }
   ],
   "source": [
    "data.describe().transpose()"
   ]
  },
  {
   "cell_type": "code",
   "execution_count": 6,
   "metadata": {},
   "outputs": [
    {
     "data": {
      "text/plain": [
       "Index(['time-step', 'x-acceleration', 'y-acceleration', 'z-acceleration'], dtype='object')"
      ]
     },
     "execution_count": 6,
     "metadata": {},
     "output_type": "execute_result"
    }
   ],
   "source": [
    "data.columns"
   ]
  },
  {
   "cell_type": "markdown",
   "metadata": {},
   "source": [
    "Hangi özelliklere göre kümeleme yapmak istediğimizi seçelim."
   ]
  },
  {
   "cell_type": "code",
   "execution_count": 7,
   "metadata": {
    "collapsed": true
   },
   "outputs": [],
   "source": [
    "features = ['time-step', 'x-acceleration', 'y-acceleration', 'z-acceleration']"
   ]
  },
  {
   "cell_type": "markdown",
   "metadata": {},
   "source": [
    "- Dataframe' in %20 si üzerinden işlem yapmak isterseniz bunu kullanabilirsiniz. Bazı dataset'lerde milyonlarca satır olabiliyor. Bu da wcss değerini bulmaya çalışırken çok fazla vakit alıyor. Tabii bu kullandığınız cihazın özelliklerine göre değişebilir."
   ]
  },
  {
   "cell_type": "code",
   "execution_count": 8,
   "metadata": {
    "collapsed": true
   },
   "outputs": [],
   "source": [
    "#X = data[features].sample(frac=0.2).values \n",
    " "
   ]
  },
  {
   "cell_type": "code",
   "execution_count": 9,
   "metadata": {},
   "outputs": [
    {
     "data": {
      "text/plain": [
       "pandas.core.frame.DataFrame"
      ]
     },
     "execution_count": 9,
     "metadata": {},
     "output_type": "execute_result"
    }
   ],
   "source": [
    "type(data[features])"
   ]
  },
  {
   "cell_type": "markdown",
   "metadata": {},
   "source": [
    "- Değerleri NumPy Array olarak atayalım."
   ]
  },
  {
   "cell_type": "code",
   "execution_count": 10,
   "metadata": {
    "collapsed": true
   },
   "outputs": [],
   "source": [
    "X = data[features].values"
   ]
  },
  {
   "cell_type": "code",
   "execution_count": 11,
   "metadata": {},
   "outputs": [
    {
     "data": {
      "text/plain": [
       "numpy.ndarray"
      ]
     },
     "execution_count": 11,
     "metadata": {},
     "output_type": "execute_result"
    }
   ],
   "source": [
    "type(X)"
   ]
  },
  {
   "cell_type": "code",
   "execution_count": 12,
   "metadata": {
    "scrolled": true
   },
   "outputs": [
    {
     "data": {
      "text/plain": [
       "array([[  0.00000000e+00,   6.94640000e-01,   3.17350000e+00,\n",
       "          7.50480000e+00],\n",
       "       [  3.06390000e-02,   1.49820000e-01,   3.48680000e+00,\n",
       "          9.27550000e+00],\n",
       "       [  6.97630000e-02,  -2.99650000e-01,   1.94770000e+00,\n",
       "          9.11200000e+00],\n",
       "       ..., \n",
       "       [  2.56060000e+02,  -6.94640000e-01,   5.82950000e+00,\n",
       "          6.74210000e+00],\n",
       "       [  2.56090000e+02,  -5.72050000e-01,   5.47540000e+00,\n",
       "          7.85890000e+00],\n",
       "       [  2.56120000e+02,  -6.94640000e-01,   5.62520000e+00,\n",
       "          7.46400000e+00]])"
      ]
     },
     "execution_count": 12,
     "metadata": {},
     "output_type": "execute_result"
    }
   ],
   "source": [
    "X"
   ]
  },
  {
   "cell_type": "markdown",
   "metadata": {},
   "source": [
    "<p style=\"font-family: Arial; font-size:1.75em;color:purple; font-style:bold\"><br>\n",
    "\n",
    "Within-Cluster Sum of Squares (WCSS) Hesaplama<br><br>\n",
    "</p>"
   ]
  },
  {
   "cell_type": "code",
   "execution_count": 13,
   "metadata": {
    "collapsed": true
   },
   "outputs": [],
   "source": [
    "wcss = []  #wcss değerlerin kaydetmek için\n",
    "#1'den 15 kadar küme sayısını değiştirip WCSS değerini bulma.\n",
    "for i in range(1,16):\n",
    "    find_centroids =  KMeans(n_clusters = i,random_state = 0)\n",
    "    find_centroids.fit(X)\n",
    "    wcss.append(find_centroids.inertia_)"
   ]
  },
  {
   "cell_type": "markdown",
   "metadata": {},
   "source": [
    "<p style=\"font-family: Arial; font-size:1.75em;color:purple; font-style:bold\"><br>\n",
    "\n",
    "Optimum <mark style=\"background-color: yellow\">K</mark> Değerini Bulma<br><br>\n",
    "</p>"
   ]
  },
  {
   "cell_type": "code",
   "execution_count": 14,
   "metadata": {},
   "outputs": [
    {
     "data": {
      "image/png": "[encoded data removed]",
      "text/plain": [
       "<matplotlib.figure.Figure at 0x2280498ceb8>"
      ]
     },
     "metadata": {},
     "output_type": "display_data"
    }
   ],
   "source": [
    "plt.figure(figsize=(15,7))\n",
    "plt.plot(range(1,16), wcss) \n",
    "plt.title('Elbow Method\\n')\n",
    "plt.xlabel('\\nKüme Sayısı')\n",
    "plt.ylabel('Within-Cluster Sum of Squares \\n(WCSS)')\n",
    "plt.show()"
   ]
  },
  {
   "cell_type": "markdown",
   "metadata": {},
   "source": [
    "Yukarıdaki grafiği yorumladığımızda Küme Sayısı 3 ve sonra için grafik daha istikrarlı seyrediyor. Bu yüzden küme sayımızı 3 olarak seçtik."
   ]
  },
  {
   "cell_type": "code",
   "execution_count": 15,
   "metadata": {},
   "outputs": [
    {
     "data": {
      "text/plain": [
       "array([1, 1, 1, ..., 0, 0, 0])"
      ]
     },
     "execution_count": 15,
     "metadata": {},
     "output_type": "execute_result"
    }
   ],
   "source": [
    "kmeans = KMeans(n_clusters = 3)\n",
    "model= kmeans.fit_predict(X)\n",
    "model"
   ]
  },
  {
   "cell_type": "code",
   "execution_count": 16,
   "metadata": {},
   "outputs": [
    {
     "data": {
      "text/plain": [
       "(149332,)"
      ]
     },
     "execution_count": 16,
     "metadata": {},
     "output_type": "execute_result"
    }
   ],
   "source": [
    "model.shape\n"
   ]
  },
  {
   "cell_type": "markdown",
   "metadata": {},
   "source": [
    "<p style=\"font-family: Arial; font-size:1.75em;color:purple; font-style:bold\"><br>\n",
    "\n",
    "Sonucu Grafik Üzerinden Görme<br><br>\n",
    "</p>"
   ]
  },
  {
   "cell_type": "code",
   "execution_count": 17,
   "metadata": {},
   "outputs": [
    {
     "data": {
      "image/png": "[encoded data removed]",
      "text/plain": [
       "<matplotlib.figure.Figure at 0x228051692e8>"
      ]
     },
     "metadata": {},
     "output_type": "display_data"
    }
   ],
   "source": [
    "plt.figure(figsize=(20,10))\n",
    "plt.scatter(X[model == 0, 0], X[model == 0, 1], s = 200, c = 'red', label = 'Yavaş')\n",
    "plt.scatter(X[model == 1, 0], X[model == 1, 1], s = 200, c = 'magenta', label = 'Hızlı')\n",
    "plt.scatter(X[model == 2, 0], X[model == 2, 1], s = 200, c = 'blue', label = 'Normal')\n",
    "plt.scatter(kmeans.cluster_centers_[:, 0], kmeans.cluster_centers_[:, 1], s = 500, c = 'yellow', label = 'Küme Merkezleri (Centroids) ')\n",
    "plt.title('Yürüme Aktivitesinden Kullanıcı Tanımlama\\n')\n",
    "plt.xlabel('\\nTime-Step')\n",
    "plt.ylabel('X-Y-Z Acceleration')\n",
    "plt.legend()\n",
    "plt.show()"
   ]
  },
  {
   "cell_type": "code",
   "execution_count": null,
   "metadata": {
    "collapsed": true
   },
   "outputs": [],
   "source": []
  }
 ],
 "metadata": {
  "kernelspec": {
   "display_name": "Python 3",
   "language": "python",
   "name": "python3"
  },
  "language_info": {
   "codemirror_mode": {
    "name": "ipython",
    "version": 3
   },
   "file_extension": ".py",
   "mimetype": "text/x-python",
   "name": "python",
   "nbconvert_exporter": "python",
   "pygments_lexer": "ipython3",
   "version": "3.6.1"
  }
 },
 "nbformat": 4,
 "nbformat_minor": 2
}
